{
 "cells": [
  {
   "cell_type": "code",
   "execution_count": 3,
   "metadata": {},
   "outputs": [],
   "source": [
    "x=10\n",
    "y=3"
   ]
  },
  {
   "cell_type": "code",
   "execution_count": 4,
   "metadata": {},
   "outputs": [
    {
     "name": "stdout",
     "output_type": "stream",
     "text": [
      "x is greater than y\n"
     ]
    }
   ],
   "source": [
    "if x>y:\n",
    "    print(\"x is greater than y\")"
   ]
  },
  {
   "cell_type": "code",
   "execution_count": 5,
   "metadata": {},
   "outputs": [
    {
     "name": "stdout",
     "output_type": "stream",
     "text": [
      "x is greater than y and x is possible\n"
     ]
    }
   ],
   "source": [
    "if x>y and x>0:\n",
    "    print(\"x is greater than y and x is possible\")"
   ]
  },
  {
   "cell_type": "code",
   "execution_count": 8,
   "metadata": {},
   "outputs": [
    {
     "name": "stdout",
     "output_type": "stream",
     "text": [
      "x is greater than 5 and y is greater than 3\n"
     ]
    }
   ],
   "source": [
    "if x>5:\n",
    "    if y>1:\n",
    "       print(\"x is greater than 5 and y is greater than 3\")"
   ]
  },
  {
   "cell_type": "code",
   "execution_count": 11,
   "metadata": {},
   "outputs": [
    {
     "name": "stdout",
     "output_type": "stream",
     "text": [
      "x is greater than 5 and y is greater than 5\n"
     ]
    }
   ],
   "source": [
    "if x>5:\n",
    "    if y>5:\n",
    "        print(\"x and y are greater than 5 \")\n",
    "    else:\n",
    "         print(\"x is greater than 5 and y is greater than 5\")\n",
    "else:\n",
    "    print(\"x is not greater than 5\")\n",
    "        "
   ]
  },
  {
   "cell_type": "code",
   "execution_count": 1,
   "metadata": {},
   "outputs": [
    {
     "name": "stdout",
     "output_type": "stream",
     "text": [
      "10is even\n"
     ]
    }
   ],
   "source": [
    "n=10\n",
    "if(n%2)==0:\n",
    "    print(\"{0}is even\".format(n))\n",
    "else:\n",
    "    print(\"{0}is odd\".format(n))"
   ]
  }
 ],
 "metadata": {
  "kernelspec": {
   "display_name": "base",
   "language": "python",
   "name": "python3"
  },
  "language_info": {
   "codemirror_mode": {
    "name": "ipython",
    "version": 3
   },
   "file_extension": ".py",
   "mimetype": "text/x-python",
   "name": "python",
   "nbconvert_exporter": "python",
   "pygments_lexer": "ipython3",
   "version": "3.10.9"
  },
  "orig_nbformat": 4
 },
 "nbformat": 4,
 "nbformat_minor": 2
}
